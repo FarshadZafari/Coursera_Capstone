{
    "cells": [
        {
            "metadata": {
                "collapsed": true
            },
            "cell_type": "markdown",
            "source": "# Final Report - Capstone Project - The Battle of Neighborhoods - Calgary, AB"
        },
        {
            "metadata": {},
            "cell_type": "markdown",
            "source": "## 1. Introduction:\n\nThe purpose of this project is to highlight the best and most affordable neighborhoods in Calgary,AB, which is one of Canada's most reputable cities. The city at the heart of Canada's Energy sector has been a sought after destination for new families and immigrants looking for new opportunities and affordable cost of living without sacrificing the standard of living.\n\nThis project aims to analyze the different neighborhoods in Calgary and supply a report that will determine the median house price, the median elementary public school rating, and the frequency of the nearby amenities available within a 5 km radius.\n\n## 2. Data Section:\n\nData Link: https://en.wikipedia.org/wiki/List_of_postal_codes_of_Canada:_T\n\nWe will be using the link above to scrape the different neighborhoods with the postal codes start with the letter 'T'. The data will then be cleaned to only include neighborhoods pertaining to Calgary.\n\n#### Foursquare API Data:\n\nWe will need data about different venues in different neighborhoods of that specific borough. In order to gain that information we will use \"Foursquare\" locational information. Foursquare is a location data provider with information about all manner of venues and events within an area of interest. Such information includes venue names, locations, menus and even photos. As such, the foursquare location platform will be used as the sole data source since all the stated required information can be obtained through the API.\n\nAfter finding the list of neighborhoods, we then connect to the Foursquare API to gather information about venues inside each and every neighborhood. For each neighborhood, we have chosen the radius to be 5 kilometers.\n\nThe data retrieved from Foursquare contained information of venues within a specified distance of the longitude and latitude of the postcodes. The information obtained per venue as follows:\n\n1. Neighborhood\n2. Neighborhood Latitude\n3. Neighborhood Longitude\n4. Venue\n5. Name of the venue e.g. the name of a store or restaurant\n6. Venue Latitude\n7. Venue Longitude\n8. Venue Category\n"
        },
        {
            "metadata": {},
            "cell_type": "markdown",
            "source": "#### Map of Calgary\n\n![alt text](https://raw.githubusercontent.com/FarshadZafari/Coursera_Capstone/master/MapofCalgary1.png)"
        },
        {
            "metadata": {},
            "cell_type": "markdown",
            "source": "## 3. Methodology Section\n\n#### Clustering Approach:\n\nWe decided to explore neighborhoods, segment them, and group them into clusters to find nearby venues and facilities. To be able to do that, we need to cluster data which is a form of unsupervised machine learning: k-means clustering algorithm.\n\n#### Using K-Means Clustering Approach\n\n![alt text](https://raw.githubusercontent.com/FarshadZafari/Coursera_Capstone/master/KMeans.png)"
        },
        {
            "metadata": {},
            "cell_type": "markdown",
            "source": "#### Most Common Venues Near Neighborhood\n\n![alt text](https://raw.githubusercontent.com/FarshadZafari/Coursera_Capstone/master/Venues.png)"
        },
        {
            "metadata": {},
            "cell_type": "markdown",
            "source": "#### Work Flow:\n\nUsing credentials of Foursquare API features of near-by places of the neighborhoods would be mined. Due to http request limitations the number of places per neighborhood parameter would reasonably be set to 100 and the radius parameter would be set to 5000"
        },
        {
            "metadata": {},
            "cell_type": "markdown",
            "source": "## 4. Results Section\n\n#### Map of Clusters in Calgary\n\n![alt text](https://raw.githubusercontent.com/FarshadZafari/Coursera_Capstone/master/Clusters.png)"
        },
        {
            "metadata": {},
            "cell_type": "markdown",
            "source": "#### Average Housing Price by Clusters in Calgary\n\n![alt text](https://raw.githubusercontent.com/FarshadZafari/Coursera_Capstone/master/Housing.png)"
        },
        {
            "metadata": {},
            "cell_type": "markdown",
            "source": "#### Elementary Public School Ratings by Clusters in Calgary\n\n![alt text](https://raw.githubusercontent.com/FarshadZafari/Coursera_Capstone/master/Schools.png)"
        },
        {
            "metadata": {},
            "cell_type": "markdown",
            "source": "#### The Location:\n\nCalgary has been and continues to be a hot spot for new immigrants, and Canadians shifting provinces. Although the downturn of Canada's energy sector has negatively impacted the province of Alberta and especially in the greater Calgary area, the economic climate in Calgary remains hopeful as diversification is well under way and immensely lucrative for commercial real estate.\n\n#### Foursquare API:\n\nThis project has used the Four-square API as its prime data gathering source as it contains a database of millions of locations which provides the ability to perform location search, location sharing and details about a business."
        },
        {
            "metadata": {},
            "cell_type": "markdown",
            "source": "## 5. Discussion Section\n\n#### Problem which to Solve:\n\nThe major purpose of this project, is to suggest a better neighborhood in a new city for the people who are shiffting there by analyzing the socio-economic status, connectivty to the airport, approximity to city center, public transportation, and every day living essentials determined for the average Canadian.\n\n1. Sorted list of house in terms of housing prices in a ascending or descending order\n2. Sorted list of schools in terms of location, fees, rating and reviews"
        },
        {
            "metadata": {},
            "cell_type": "markdown",
            "source": "## 6. Conclusion Section\n\nIn this project, using k-means cluster algorithm I separated the neighborhood into 3 different clusters and for 35 different lattitude and logitude from dataset, which have very-similar neighborhoods around them. Using the charts above results presented to a particular neighborhood based on average house prices and school rating have been made.\n\nI feel rewarded with the efforts and believe this course with all the topics covered is well worthy of appreciation. This project has shown me a practical application to resolve a real situation that has impacting personal and financial impact using Data Science tools. The mapping with Folium is a very powerful technique to consolidate information and make the analysis and decision better with confidence."
        },
        {
            "metadata": {},
            "cell_type": "markdown",
            "source": "#### Future Works:\n\nThis project can be continued to be made more precise in terms of locating the optimal neighborhood in Calgary. It is very flexible in terms of feeding a more involved dataset to work with and altering the parameters that will be required."
        },
        {
            "metadata": {},
            "cell_type": "markdown",
            "source": "#### Libraries Used to Develop this Project:\n\n* Pandas: For creating and manipulating dataframes.\n* Folium: Python visualization library would be used to visualize the neighborhoods cluster distribution of using interactive leaflet map.\n* Scikit Learn: For importing k-means clustering.\n* Geocoder: To retrieve Location Data.\n* Matplotlib: Python Plotting Module."
        },
        {
            "metadata": {},
            "cell_type": "code",
            "source": "",
            "execution_count": null,
            "outputs": []
        }
    ],
    "metadata": {
        "kernelspec": {
            "name": "python3",
            "display_name": "Python 3.7",
            "language": "python"
        },
        "language_info": {
            "name": "python",
            "version": "3.7.10",
            "mimetype": "text/x-python",
            "codemirror_mode": {
                "name": "ipython",
                "version": 3
            },
            "pygments_lexer": "ipython3",
            "nbconvert_exporter": "python",
            "file_extension": ".py"
        }
    },
    "nbformat": 4,
    "nbformat_minor": 1
}
{
    "cells": [
        {
            "metadata": {
                "collapsed": true
            },
            "cell_type": "markdown",
            "source": "# The Battle of Neighborhoods - Business Proposal - Introduction"
        },
        {
            "metadata": {},
            "cell_type": "markdown",
            "source": "## Introduction:\n\nThe purpose of this project is to highlight the best and most affordable neighborhoods in Calgary,AB, which is one of Canada's most reputable cities. The city at the heart of Canada's Energy sector, this city has been a sought after destination for new families and immigrants looking for new opportunities and affordable cost of living while not sacrificing the standard of living.\n\n\n## Problem Which Tried to Solve:\n\nThrough the analysis on the average price of housing, and the average public elementary school ratings, we will determine which neighborhoods are more optimal based on the observers socio-economic status.\n\n1. Sorted list of house in terms of housing prices in a ascending or descending order\n2. Sorted list of schools in terms of location, fees, rating and reviews\n\n\n## Foursquare API:\nThis project would use Four-square API as its prime data gathering source as it has a database of millions of places, especially their places API which provides the ability to perform location search, location sharing and details about a business.\n\n\n## Work Flow:\nUsing credentials of Foursquare API features of near-by places of the neighborhoods would be mined. Due to http request limitations the number of places per neighborhood parameter would reasonably be set to 100 and the radius parameter would be set to 5000.\n\n\n## Clustering Approach:\nWe decided to explore neighborhoods, segment them, and group them into clusters to find nearby venues and facilities. To be able to do that, we need to cluster data which is a form of unsupervised machine learning: k-means clustering algorithm\n\n\n## Libraries Which are Used to Develope the Project:\nPandas: For creating and manipulating dataframes.\n\nFolium: Python visualization library would be used to visualize the neighborhoods cluster distribution of using interactive leaflet map.\n\nScikit Learn: For importing k-means clustering.\n\nJSON: Library to handle JSON files.\n\nXML: To separate data from presentation and XML stores data in plain text format.\n\nGeocoder: To retrieve Location Data.\n\nBeautiful Soup and Requests: To scrap and library to handle http requests.\n\nMatplotlib: Python Plotting Module."
        },
        {
            "metadata": {},
            "cell_type": "code",
            "source": "",
            "execution_count": null,
            "outputs": []
        }
    ],
    "metadata": {
        "kernelspec": {
            "name": "python3",
            "display_name": "Python 3.7",
            "language": "python"
        },
        "language_info": {
            "name": "python",
            "version": "3.7.9",
            "mimetype": "text/x-python",
            "codemirror_mode": {
                "name": "ipython",
                "version": 3
            },
            "pygments_lexer": "ipython3",
            "nbconvert_exporter": "python",
            "file_extension": ".py"
        }
    },
    "nbformat": 4,
    "nbformat_minor": 1
}